{
 "cells": [
  {
   "cell_type": "code",
   "execution_count": 1,
   "metadata": {},
   "outputs": [
    {
     "name": "stdout",
     "output_type": "stream",
     "text": [
      "True\n"
     ]
    }
   ],
   "source": [
    "# conda create -n ostp-permit python=3.10\n",
    "\n",
    "# pip install --upgrade pip setuptools wheel\n",
    "# conda activate ostp-permit\n",
    "# pip install -r requirements.txt\n",
    "\n",
    "import os\n",
    "import openai\n",
    "\n",
    "openai.organization = \"org-raWgaVqCbuR9YlP1CIjclYHk\"\n",
    "openai.api_key = os.getenv(\"OPENAI_API_KEY\")\n",
    "\n",
    "print(True if os.getenv(\"OPENAI_API_KEY\") else False)"
   ]
  },
  {
   "cell_type": "code",
   "execution_count": 9,
   "metadata": {},
   "outputs": [
    {
     "name": "stdout",
     "output_type": "stream",
     "text": [
      "50\n",
      "pg 1 done\n",
      "pg 2 done\n",
      "pg 3 done\n",
      "pg 4 done\n",
      "pg 5 done\n",
      "pg 6 done\n",
      "pg 7 done\n",
      "pg 8 done\n",
      "pg 9 done\n",
      "pg 10 done\n",
      "pg 11 done\n",
      "pg 12 done\n",
      "pg 13 done\n",
      "pg 14 done\n",
      "pg 15 done\n",
      "pg 16 done\n",
      "pg 17 done\n",
      "pg 18 done\n",
      "pg 19 done\n",
      "pg 20 done\n",
      "pg 21 done\n",
      "pg 22 done\n",
      "pg 23 done\n",
      "pg 24 done\n",
      "pg 25 done\n",
      "pg 26 done\n",
      "pg 27 done\n",
      "pg 28 done\n",
      "pg 29 done\n",
      "pg 30 done\n",
      "pg 31 done\n",
      "pg 32 done\n",
      "pg 33 done\n",
      "pg 34 done\n",
      "pg 35 done\n",
      "pg 36 done\n",
      "pg 37 done\n",
      "pg 38 done\n",
      "pg 39 done\n",
      "pg 40 done\n",
      "pg 41 done\n",
      "pg 42 done\n",
      "pg 43 done\n",
      "pg 44 done\n",
      "pg 45 done\n",
      "pg 46 done\n",
      "pg 47 done\n",
      "pg 48 done\n",
      "pg 49 done\n",
      "pg 50 done\n"
     ]
    }
   ],
   "source": [
    "import PyPDF2\n",
    "\n",
    "pdf_text = {}\n",
    "\n",
    "# read in binary mode\n",
    "with open('logan.pdf', 'rb') as file:\n",
    "    pdf_reader = PyPDF2.PdfReader(file)\n",
    "    num_pages = len(pdf_reader.pages)\n",
    "    print(num_pages)\n",
    "    \n",
    "    for page_num in range(num_pages):\n",
    "        page = pdf_reader.pages[page_num]\n",
    "        pdf_text[page_num + 1] = page.extract_text()\n",
    "        print(f'pg {page_num + 1} done')\n"
   ]
  },
  {
   "cell_type": "code",
   "execution_count": 10,
   "metadata": {},
   "outputs": [],
   "source": [
    "with open('extracted_text.txt', 'w', encoding='utf-8') as txt_file:\n",
    "    for page, text in pdf_text.items():\n",
    "        txt_file.write(text + '\\n')"
   ]
  },
  {
   "cell_type": "code",
   "execution_count": 11,
   "metadata": {},
   "outputs": [
    {
     "name": "stdout",
     "output_type": "stream",
     "text": [
      "Total word count: 17879\n"
     ]
    }
   ],
   "source": [
    "def count_words(text):\n",
    "    words = text.split()\n",
    "    return len(words)\n",
    "\n",
    "# Count words in all pages\n",
    "total_word_count = sum(count_words(text) for text in pdf_text.values())\n",
    "\n",
    "# Display total word count\n",
    "print(f\"Total word count: {total_word_count}\")"
   ]
  },
  {
   "cell_type": "code",
   "execution_count": null,
   "metadata": {},
   "outputs": [],
   "source": []
  }
 ],
 "metadata": {
  "kernelspec": {
   "display_name": "ostp-permitting",
   "language": "python",
   "name": "python3"
  },
  "language_info": {
   "codemirror_mode": {
    "name": "ipython",
    "version": 3
   },
   "file_extension": ".py",
   "mimetype": "text/x-python",
   "name": "python",
   "nbconvert_exporter": "python",
   "pygments_lexer": "ipython3",
   "version": "3.10.13"
  },
  "orig_nbformat": 4
 },
 "nbformat": 4,
 "nbformat_minor": 2
}
