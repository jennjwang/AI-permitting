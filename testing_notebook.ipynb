{
 "cells": [
  {
   "cell_type": "code",
   "execution_count": 4,
   "metadata": {},
   "outputs": [
    {
     "ename": "ModuleNotFoundError",
     "evalue": "No module named 'openai'",
     "output_type": "error",
     "traceback": [
      "\u001b[0;31m---------------------------------------------------------------------------\u001b[0m",
      "\u001b[0;31mModuleNotFoundError\u001b[0m                       Traceback (most recent call last)",
      "\u001b[1;32m/Users/kaylahuang/Documents/GitHub/AI-permitting/testing_notebook.ipynb Cell 1\u001b[0m line \u001b[0;36m6\n\u001b[1;32m      <a href='vscode-notebook-cell:/Users/kaylahuang/Documents/GitHub/AI-permitting/testing_notebook.ipynb#W0sZmlsZQ%3D%3D?line=0'>1</a>\u001b[0m \u001b[39m# conda env: ostp-permitting\u001b[39;00m\n\u001b[1;32m      <a href='vscode-notebook-cell:/Users/kaylahuang/Documents/GitHub/AI-permitting/testing_notebook.ipynb#W0sZmlsZQ%3D%3D?line=1'>2</a>\u001b[0m \u001b[39m# pip install --upgrade pip setuptools wheel\u001b[39;00m\n\u001b[1;32m      <a href='vscode-notebook-cell:/Users/kaylahuang/Documents/GitHub/AI-permitting/testing_notebook.ipynb#W0sZmlsZQ%3D%3D?line=2'>3</a>\u001b[0m \u001b[39m# pip install -r requirements.txt\u001b[39;00m\n\u001b[1;32m      <a href='vscode-notebook-cell:/Users/kaylahuang/Documents/GitHub/AI-permitting/testing_notebook.ipynb#W0sZmlsZQ%3D%3D?line=4'>5</a>\u001b[0m \u001b[39mimport\u001b[39;00m \u001b[39mos\u001b[39;00m\n\u001b[0;32m----> <a href='vscode-notebook-cell:/Users/kaylahuang/Documents/GitHub/AI-permitting/testing_notebook.ipynb#W0sZmlsZQ%3D%3D?line=5'>6</a>\u001b[0m \u001b[39mimport\u001b[39;00m \u001b[39mopenai\u001b[39;00m\n\u001b[1;32m      <a href='vscode-notebook-cell:/Users/kaylahuang/Documents/GitHub/AI-permitting/testing_notebook.ipynb#W0sZmlsZQ%3D%3D?line=7'>8</a>\u001b[0m openai\u001b[39m.\u001b[39morganization \u001b[39m=\u001b[39m \u001b[39m\"\u001b[39m\u001b[39morg-raWgaVqCbuR9YlP1CIjclYHk\u001b[39m\u001b[39m\"\u001b[39m\n\u001b[1;32m      <a href='vscode-notebook-cell:/Users/kaylahuang/Documents/GitHub/AI-permitting/testing_notebook.ipynb#W0sZmlsZQ%3D%3D?line=8'>9</a>\u001b[0m openai\u001b[39m.\u001b[39mapi_key \u001b[39m=\u001b[39m os\u001b[39m.\u001b[39mgetenv(\u001b[39m\"\u001b[39m\u001b[39mOPENAI_API_KEY\u001b[39m\u001b[39m\"\u001b[39m)\n",
      "\u001b[0;31mModuleNotFoundError\u001b[0m: No module named 'openai'"
     ]
    }
   ],
   "source": [
    "# conda create -n ostp-permit python=3.10\n",
    "\n",
    "# pip install --upgrade pip setuptools wheel\n",
    "# conda activate ostp-permit\n",
    "# pip install -r requirements.txt\n",
    "\n",
    "import os\n",
    "import openai\n",
    "\n",
    "openai.organization = \"org-raWgaVqCbuR9YlP1CIjclYHk\"\n",
    "openai.api_key = os.getenv(\"OPENAI_API_KEY\")\n",
    "\n",
    "print(os.getenv(\"OPENAI_API_KEY\"))"
   ]
  },
  {
   "cell_type": "code",
   "execution_count": null,
   "metadata": {},
   "outputs": [],
   "source": []
  }
 ],
 "metadata": {
  "kernelspec": {
   "display_name": "ostp-permitting",
   "language": "python",
   "name": "python3"
  },
  "language_info": {
   "codemirror_mode": {
    "name": "ipython",
    "version": 3
   },
   "file_extension": ".py",
   "mimetype": "text/x-python",
   "name": "python",
   "nbconvert_exporter": "python",
   "pygments_lexer": "ipython3",
   "version": "3.12.0"
  },
  "orig_nbformat": 4
 },
 "nbformat": 4,
 "nbformat_minor": 2
}
