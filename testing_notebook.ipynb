{
 "cells": [
  {
   "cell_type": "code",
   "execution_count": 2,
   "metadata": {},
   "outputs": [
    {
     "name": "stdout",
     "output_type": "stream",
     "text": [
      "Collecting PyPDF2\n",
      "  Downloading pypdf2-3.0.1-py3-none-any.whl (232 kB)\n",
      "\u001b[2K     \u001b[90m━━━━━━━━━━━━━━━━━━━━━━━━━━━━━━━━━━━━━━━\u001b[0m \u001b[32m232.6/232.6 kB\u001b[0m \u001b[31m4.3 MB/s\u001b[0m eta \u001b[36m0:00:00\u001b[0ma \u001b[36m0:00:01\u001b[0m\n",
      "\u001b[?25hInstalling collected packages: PyPDF2\n",
      "Successfully installed PyPDF2-3.0.1\n",
      "Note: you may need to restart the kernel to use updated packages.\n"
     ]
    }
   ],
   "source": [
    "# %pip install python-dotenv\n",
    "%pip install PyPDF2\n"
   ]
  },
  {
   "cell_type": "code",
   "execution_count": 19,
   "metadata": {},
   "outputs": [
    {
     "name": "stdout",
     "output_type": "stream",
     "text": [
      "True\n"
     ]
    }
   ],
   "source": [
    "# conda create -n ostp-permit python=3.10\n",
    "\n",
    "# pip install --upgrade pip setuptools wheel\n",
    "# conda activate ostp-permit\n",
    "# pip install -r requirements.txt\n",
    "\n",
    "import os\n",
    "import openai\n",
    "import dotenv\n",
    "dotenv.load_dotenv()\n",
    "\n",
    "openai.organization = \"org-raWgaVqCbuR9YlP1CIjclYHk\"\n",
    "openai.api_key = os.getenv(\"OPENAI_API_KEY\")\n",
    "\n",
    "print(True if os.getenv(\"OPENAI_API_KEY\") else False)"
   ]
  },
  {
   "cell_type": "code",
   "execution_count": 3,
   "metadata": {},
   "outputs": [
    {
     "name": "stdout",
     "output_type": "stream",
     "text": [
      "10\n",
      "pg 1 done\n",
      "pg 2 done\n",
      "pg 3 done\n",
      "pg 4 done\n",
      "pg 5 done\n",
      "pg 6 done\n",
      "pg 7 done\n",
      "pg 8 done\n",
      "pg 9 done\n",
      "pg 10 done\n"
     ]
    }
   ],
   "source": [
    "import PyPDF2\n",
    "\n",
    "pdf_text = {}\n",
    "\n",
    "# read in binary mode\n",
    "with open('marine.pdf', 'rb') as file:\n",
    "    pdf_reader = PyPDF2.PdfReader(file)\n",
    "    num_pages = len(pdf_reader.pages)\n",
    "    print(num_pages)\n",
    "\n",
    "    for page_num in range(num_pages):\n",
    "        page = pdf_reader.pages[page_num]\n",
    "        pdf_text[page_num + 1] = page.extract_text()\n",
    "        print(f'pg {page_num + 1} done')"
   ]
  },
  {
   "cell_type": "code",
   "execution_count": 4,
   "metadata": {},
   "outputs": [],
   "source": [
    "with open('extracted_text.txt', 'w', encoding='utf-8') as txt_file:\n",
    "    for page, text in pdf_text.items():\n",
    "        txt_file.write(text + '\\n')"
   ]
  },
  {
   "cell_type": "code",
   "execution_count": 11,
   "metadata": {},
   "outputs": [
    {
     "name": "stdout",
     "output_type": "stream",
     "text": [
      "Total word count: 17879\n"
     ]
    }
   ],
   "source": [
    "def count_words(text):\n",
    "    words = text.split()\n",
    "    return len(words)\n",
    "\n",
    "\n",
    "# Count words in all pages\n",
    "total_word_count = sum(count_words(text) for text in pdf_text.values())\n",
    "\n",
    "# Display total word count\n",
    "print(f\"Total word count: {total_word_count}\")"
   ]
  },
  {
   "cell_type": "code",
   "execution_count": 19,
   "metadata": {},
   "outputs": [],
   "source": [
    "import fitz  # PyMuPDF\n",
    "import pandas as pd\n",
    "\n",
    "# Load pdf file\n",
    "doc = fitz.open('form_2a_ex.pdf')\n",
    "\n",
    "page = doc.load_page(0)  # Corrected method name\n",
    "text = page.get_text()"
   ]
  },
  {
   "cell_type": "code",
   "execution_count": 21,
   "metadata": {},
   "outputs": [
    {
     "data": {
      "text/plain": [
       "[['EPA', 'Identification', 'Number'],\n",
       " ['NPDES', 'Permit', 'Number'],\n",
       " ['Facility', 'Name'],\n",
       " ['Outfall', 'Number'],\n",
       " [],\n",
       " ['Form', 'Approved', '03/05/19'],\n",
       " [],\n",
       " [],\n",
       " ['OMB', 'No.', '2040\\xad0004'],\n",
       " [],\n",
       " ['TABLE'],\n",
       " [],\n",
       " ['A.', 'EFFLUENT', 'PARAMETERS'],\n",
       " [],\n",
       " [],\n",
       " ['FOR', 'ALL', 'POTWS'],\n",
       " [],\n",
       " ['Maximum'],\n",
       " [],\n",
       " ['Daily', 'Discharge'],\n",
       " [],\n",
       " ['Average', 'Daily', 'Discharge'],\n",
       " [],\n",
       " ['Analytical'],\n",
       " [],\n",
       " ['ML'],\n",
       " ['or'],\n",
       " [],\n",
       " ['MDL'],\n",
       " [],\n",
       " ['Pollutant'],\n",
       " [],\n",
       " ['Number', 'of'],\n",
       " [],\n",
       " ['Method1'],\n",
       " ['Value'],\n",
       " [],\n",
       " ['Units'],\n",
       " ['Value'],\n",
       " [],\n",
       " ['Units'],\n",
       " ['(incl'],\n",
       " [],\n",
       " ['ude', 'units)'],\n",
       " [],\n",
       " ['Samples'],\n",
       " ['Biochemi'],\n",
       " [],\n",
       " ['cal', 'oxygen', 'demand'],\n",
       " [],\n",
       " [],\n",
       " ['\\uf0a8', 'ML'],\n",
       " [],\n",
       " [],\n",
       " ['\\uf0a8', 'BOD5', 'or', '\\uf0a8', 'CBOD5'],\n",
       " [],\n",
       " [],\n",
       " ['\\uf0a8', 'MDL'],\n",
       " ['(report', 'one)'],\n",
       " [],\n",
       " [],\n",
       " ['\\uf0a8', 'ML'],\n",
       " [],\n",
       " [],\n",
       " ['Fecal', 'coliform'],\n",
       " [],\n",
       " [],\n",
       " ['\\uf0a8', 'MDL'],\n",
       " ['Desi'],\n",
       " [],\n",
       " ['gn', 'flow', 'rate'],\n",
       " ['pH', '(mini'],\n",
       " [],\n",
       " ['mum)'],\n",
       " ['pH', '(maxi'],\n",
       " [],\n",
       " ['mum)'],\n",
       " ['Temperature', '(wi'],\n",
       " [],\n",
       " ['nter)'],\n",
       " [],\n",
       " ['Temperature', '(summer)'],\n",
       " [],\n",
       " [],\n",
       " ['\\uf0a8', 'ML'],\n",
       " [],\n",
       " [],\n",
       " ['Total', 'suspended', 'solids', '(TSS)'],\n",
       " [],\n",
       " [],\n",
       " ['\\uf0a8', 'MDL'],\n",
       " ['1',\n",
       "  'Sampling',\n",
       "  'shall',\n",
       "  'be',\n",
       "  'conducted',\n",
       "  'according',\n",
       "  'to',\n",
       "  'sufficiently',\n",
       "  'sensitive',\n",
       "  'test',\n",
       "  'procedures',\n",
       "  '(i.e.,',\n",
       "  'methods)',\n",
       "  'approved',\n",
       "  'under',\n",
       "  '40',\n",
       "  'CFR',\n",
       "  '136',\n",
       "  'for',\n",
       "  'the',\n",
       "  'analysis',\n",
       "  'of',\n",
       "  'pollutants',\n",
       "  'or',\n",
       "  'pollutant',\n",
       "  'parameters',\n",
       "  'or'],\n",
       " ['required',\n",
       "  'under',\n",
       "  '40',\n",
       "  'CFR',\n",
       "  'chapter',\n",
       "  'I,',\n",
       "  'subchapter',\n",
       "  'N',\n",
       "  'or',\n",
       "  'O.',\n",
       "  'See',\n",
       "  'instructions',\n",
       "  'and',\n",
       "  '40',\n",
       "  'CFR',\n",
       "  '122.21(e)(3).'],\n",
       " [],\n",
       " [],\n",
       " ['EPA', 'Form', '3510\\xad2A', '(Revised', '3\\xad19)'],\n",
       " ['Page', '1�'],\n",
       " ['MA0110264'],\n",
       " ['002'],\n",
       " ['200'],\n",
       " ['lb/day'],\n",
       " ['100'],\n",
       " ['lb/day'],\n",
       " ['2/Month'],\n",
       " ['0.3'],\n",
       " ['MGD'],\n",
       " ['0.3'],\n",
       " ['MGD'],\n",
       " ['Continuous', 'Meter'],\n",
       " ['6.5'],\n",
       " ['S.U.'],\n",
       " ['8.3'],\n",
       " ['S.U.']]"
      ]
     },
     "execution_count": 21,
     "metadata": {},
     "output_type": "execute_result"
    }
   ],
   "source": [
    "lines = text.strip().split('\\n')\n",
    "data = [line.split() for line in lines]\n",
    "\n",
    "data\n",
    "\n",
    "# print(df)"
   ]
  },
  {
   "cell_type": "code",
   "execution_count": null,
   "metadata": {},
   "outputs": [],
   "source": []
  },
  {
   "cell_type": "code",
   "execution_count": null,
   "metadata": {},
   "outputs": [],
   "source": [
    "response = openai.Completion.create(\n",
    "    engine=\"gpt-4-32k\",\n",
    "    prompt=\"Translate the following English text to French: 'Hello, how are you?'\",\n",
    "    max_tokens=60\n",
    ")"
   ]
  },
  {
   "cell_type": "code",
   "execution_count": null,
   "metadata": {},
   "outputs": [],
   "source": []
  },
  {
   "cell_type": "code",
   "execution_count": null,
   "metadata": {},
   "outputs": [],
   "source": []
  }
 ],
 "metadata": {
  "kernelspec": {
   "display_name": "ostp-permit",
   "language": "python",
   "name": "python3"
  },
  "language_info": {
   "codemirror_mode": {
    "name": "ipython",
    "version": 3
   },
   "file_extension": ".py",
   "mimetype": "text/x-python",
   "name": "python",
   "nbconvert_exporter": "python",
   "pygments_lexer": "ipython3",
   "version": "3.10.13"
  },
  "orig_nbformat": 4
 },
 "nbformat": 4,
 "nbformat_minor": 2
}
